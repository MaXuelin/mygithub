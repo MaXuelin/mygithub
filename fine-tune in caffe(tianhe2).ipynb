{
 "cells": [
  {
   "cell_type": "markdown",
   "metadata": {
    "nbpresent": {
     "id": "73e063ee-d018-4898-a5eb-037d4f2bc063"
    }
   },
   "source": [
    "# 在超算caffe进行fine-tune"
   ]
  },
  {
   "cell_type": "markdown",
   "metadata": {
    "nbpresent": {
     "id": "8b774c35-241a-4cc0-b896-8ac4244da3db"
    }
   },
   "source": [
    "## 1、caffe加载"
   ]
  },
  {
   "cell_type": "code",
   "execution_count": 1,
   "metadata": {
    "collapsed": false,
    "nbpresent": {
     "id": "894f933c-9e09-486d-b854-59cff2234218"
    },
    "scrolled": false
   },
   "outputs": [
    {
     "ename": "SyntaxError",
     "evalue": "invalid syntax (<ipython-input-1-f8c2c05704d9>, line 1)",
     "output_type": "error",
     "traceback": [
      "\u001b[1;36m  File \u001b[1;32m\"<ipython-input-1-f8c2c05704d9>\"\u001b[1;36m, line \u001b[1;32m1\u001b[0m\n\u001b[1;33m    module load caffe/v20160510-cpu3\u001b[0m\n\u001b[1;37m              ^\u001b[0m\n\u001b[1;31mSyntaxError\u001b[0m\u001b[1;31m:\u001b[0m invalid syntax\n"
     ]
    }
   ],
   "source": [
    "module load caffe/v20160510-cpu3"
   ]
  },
  {
   "cell_type": "markdown",
   "metadata": {
    "nbpresent": {
     "id": "2d34f867-2daf-419e-ac44-24ef84d5d072"
    }
   },
   "source": [
    "在超算上加载caffe模式"
   ]
  },
  {
   "cell_type": "code",
   "execution_count": null,
   "metadata": {
    "collapsed": true,
    "nbpresent": {
     "id": "092565d2-db9b-4a9d-84b6-decb7a16d475"
    }
   },
   "outputs": [],
   "source": [
    "cd caffe-master"
   ]
  },
  {
   "cell_type": "markdown",
   "metadata": {
    "nbpresent": {
     "id": "7bde2c05-2b3e-4b72-bf38-19c90bc2aa15"
    }
   },
   "source": [
    "进入caffe的主目录，基本上所有的操作都是在主目录下进行，所以在脚本中必须注明相应目录"
   ]
  },
  {
   "cell_type": "markdown",
   "metadata": {
    "nbpresent": {
     "id": "84326e2a-9e65-4c50-9922-1c50bb89c869"
    }
   },
   "source": [
    "## 2、脚本编辑"
   ]
  },
  {
   "cell_type": "code",
   "execution_count": null,
   "metadata": {
    "collapsed": true,
    "nbpresent": {
     "id": "3872a470-d0b3-4509-aeb5-825aa0e56192"
    }
   },
   "outputs": [],
   "source": [
    "vim examples/mnist/train_lenet_finetune.sh"
   ]
  },
  {
   "cell_type": "markdown",
   "metadata": {
    "nbpresent": {
     "id": "502a2308-9b94-45b0-a7fd-9d3978ff7c66"
    }
   },
   "source": [
    "编写fine-tune的脚本文件"
   ]
  },
  {
   "cell_type": "code",
   "execution_count": null,
   "metadata": {
    "collapsed": true,
    "nbpresent": {
     "id": "d06a9180-f3d7-43ef-9548-9c7dd99c9aa2"
    }
   },
   "outputs": [],
   "source": [
    "# %load train_lenet_finetune.sh\n",
    "#!/usr/bin/env sh\n",
    "\n",
    "#./build/tools/caffe train --solver=examples/mnist/lenet_solver.prototxt\n",
    "\n",
    "yhrun -p nsfc3 -n 1 caffe train --solver=examples/mnist/lenet_solver_th.prototxt --weights=examples/mnist/lenet_iter_10000.caffemodel &> examples/mnist/lenet.log\n"
   ]
  },
  {
   "cell_type": "markdown",
   "metadata": {
    "nbpresent": {
     "id": "462b94a0-d35d-4afa-97c8-e088069ce171"
    }
   },
   "source": [
    "脚本说明：\n",
    "\n",
    "yhrun 是运行命令\n",
    "-p nsfc3 我们账户用的就是nsfc3的分区\n",
    "-n 1 一个任务数\n",
    "\n",
    "caffe train 开始训练，后接参数设置\n",
    "--solver=examples/mnist/lenet_solver_th.prototxt 网络结构，存放在.prototxt文件中\n",
    "--weights=examples/mnist/lenet_iter_10000.caffemodel 权重文件，存放在.caffemodel文件中\n",
    "&> shell的重定向指令，将输出的结果保存到examples/mnist/lenet.log文件中，而不直接输出在终端"
   ]
  },
  {
   "cell_type": "markdown",
   "metadata": {
    "nbpresent": {
     "id": "615938c3-7e17-447f-8092-d685c0a4d969"
    }
   },
   "source": [
    "## 3、脚本执行"
   ]
  },
  {
   "cell_type": "code",
   "execution_count": null,
   "metadata": {
    "collapsed": false,
    "nbpresent": {
     "id": "6389ba39-132d-460b-8d5e-cdc64b49ce73"
    }
   },
   "outputs": [],
   "source": [
    "yhbatch -p nsfc3 examples/mnist/train_lenet_finetune.sh"
   ]
  },
  {
   "cell_type": "markdown",
   "metadata": {
    "nbpresent": {
     "id": "0287c3e1-9af8-4274-88d7-415b35940fd7"
    }
   },
   "source": [
    "通过批处理（yhbatch）的方式提交作业，同样指定分区为nsfc3 "
   ]
  },
  {
   "cell_type": "code",
   "execution_count": null,
   "metadata": {
    "collapsed": true,
    "nbpresent": {
     "id": "73d74b6f-3fce-4ebb-b6f2-eafb0ddb5c35"
    }
   },
   "outputs": [],
   "source": [
    "yhq"
   ]
  },
  {
   "cell_type": "markdown",
   "metadata": {
    "nbpresent": {
     "id": "763aff3c-f8f1-4e30-bd54-67393373428d"
    }
   },
   "source": [
    "查询现在正在运行的作业数"
   ]
  },
  {
   "cell_type": "code",
   "execution_count": null,
   "metadata": {
    "collapsed": true,
    "nbpresent": {
     "id": "4ae61890-587c-48d4-9f36-1b66e473987c"
    }
   },
   "outputs": [],
   "source": [
    "tail examples/mnist/lenet.log"
   ]
  },
  {
   "cell_type": "markdown",
   "metadata": {
    "nbpresent": {
     "id": "4dbacdca-9178-4134-80bd-83e26c6a2c92"
    }
   },
   "source": [
    "tail 指令用于查询日志文本的最后几行（默认是10）（加上 -f 参数可以连续查看）"
   ]
  }
 ],
 "metadata": {
  "kernelspec": {
   "display_name": "Python [Root]",
   "language": "python",
   "name": "Python [Root]"
  },
  "language_info": {
   "codemirror_mode": {
    "name": "ipython",
    "version": 2
   },
   "file_extension": ".py",
   "mimetype": "text/x-python",
   "name": "python",
   "nbconvert_exporter": "python",
   "pygments_lexer": "ipython2",
   "version": "2.7.12"
  }
 },
 "nbformat": 4,
 "nbformat_minor": 0
}
